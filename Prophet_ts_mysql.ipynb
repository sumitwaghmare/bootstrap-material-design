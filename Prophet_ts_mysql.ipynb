{
  "nbformat": 4,
  "nbformat_minor": 0,
  "metadata": {
    "colab": {
      "name": "Prophet_ts_mysql.ipynb",
      "provenance": [],
      "collapsed_sections": [],
      "mount_file_id": "1kcNSL1vrgKX8X418sG8A6WAnzj9svSr7",
      "authorship_tag": "ABX9TyO0Lnm4Rqw7nW+1dWxxk07+",
      "include_colab_link": true
    },
    "kernelspec": {
      "name": "python3",
      "display_name": "Python 3"
    }
  },
  "cells": [
    {
      "cell_type": "markdown",
      "metadata": {
        "id": "view-in-github",
        "colab_type": "text"
      },
      "source": [
        "<a href=\"https://colab.research.google.com/github/sumitwaghmare/bootstrap-material-design/blob/master/Prophet_ts_mysql.ipynb\" target=\"_parent\"><img src=\"https://colab.research.google.com/assets/colab-badge.svg\" alt=\"Open In Colab\"/></a>"
      ]
    },
    {
      "cell_type": "code",
      "metadata": {
        "id": "IE24LrgFWZvV",
        "colab_type": "code",
        "colab": {
          "base_uri": "https://localhost:8080/",
          "height": 89
        },
        "outputId": "c95a02d3-8384-45bc-8cde-07871e606f83"
      },
      "source": [
        "#!pip install mysql-connector\n",
        "!pip install scikit-learn scipy"
      ],
      "execution_count": null,
      "outputs": [
        {
          "output_type": "stream",
          "text": [
            "Requirement already satisfied: scikit-learn in /usr/local/lib/python3.6/dist-packages (0.22.2.post1)\n",
            "Requirement already satisfied: scipy in /usr/local/lib/python3.6/dist-packages (1.4.1)\n",
            "Requirement already satisfied: numpy>=1.11.0 in /usr/local/lib/python3.6/dist-packages (from scikit-learn) (1.18.5)\n",
            "Requirement already satisfied: joblib>=0.11 in /usr/local/lib/python3.6/dist-packages (from scikit-learn) (0.16.0)\n"
          ],
          "name": "stdout"
        }
      ]
    },
    {
      "cell_type": "code",
      "metadata": {
        "id": "Q8zh8534KlYY",
        "colab_type": "code",
        "colab": {}
      },
      "source": [
        "import pandas as pd\n",
        "from pandas import DataFrame\n",
        "from fbprophet import Prophet\n",
        "import mysql.connector\n",
        "from fbprophet.plot import add_changepoints_to_plot\n",
        "from fbprophet.diagnostics import performance_metrics\n",
        "from sklearn.metrics import mean_squared_error, r2_score, mean_absolute_error\n",
        "\n",
        "import smtplib\n",
        "\n",
        "server = smtplib.SMTP('smtp.gmail.com', 587)\n",
        "server.starttls()\n",
        "server.login(\"papasumit@gmail.com\", \"isvmnhomehsqhcqj\")\n",
        "\n",
        "mydb = mysql.connector.connect(\n",
        "  host=\"dbgoodorder.coliq5gf8jmk.ap-south-1.rds.amazonaws.com\",\n",
        "  user=\"admin\",\n",
        "  password=\"J72hsAZNQuQs\",\n",
        "  database = \"newschema\"\n",
        ")\n",
        "#print(mydb)\n",
        "curr1 = mydb.cursor()\n",
        "\n",
        "curr1.execute(\"select DISTINCT productSKU, storeID from saleshistory\")\n",
        "\n",
        "result1 = curr1.fetchall()\n",
        "\n",
        "for x in result1:\n",
        "  curr2 = mydb.cursor()\n",
        "  curr2.execute(\"select * from saleshistory where productSKU='\" + x[0] + \"' and storeID ='\"+x[1]+\"' and status = 'actual' order by dateInfo\")\n",
        "  result2 = curr2.fetchall()\n",
        "  print(result2)\n",
        "  field_names = [i[0] for i in curr2.description]\n",
        "  #print(result2)\n",
        "  #print(curr2.rowcount, \"record found.\")\n",
        "  df = DataFrame(result2)\n",
        "  df.columns = field_names\n",
        "  df['ds'] = pd.to_datetime(df['dateInfo'])\n",
        "  df['y'] = df['qty']\n",
        "  #print(df)\n",
        "  #print(x[0],x[1])\n",
        "  prophet = Prophet()\n",
        "  prophet.fit(df) \n",
        "  #future = prophet.make_future_dataframe(periods=365, freq='D')\n",
        "  #forecast = prophet.predict(future)\n",
        "  future = prophet.make_future_dataframe(periods=365, include_history=True)\n",
        "  forecast = prophet.predict(future)\n",
        "  metric_df = forecast.set_index('ds')[['yhat']].join(df.set_index('ds').y).reset_index()\n",
        "  metric_df.dropna(inplace=True)\n",
        "  #print(metric_df)\n",
        "  print(mean_absolute_error(metric_df.y, metric_df.yhat))\n",
        "  #save MAD/MAE same\n",
        "  curr4 = mydb.cursor()\n",
        "  curr4.execute(f'UPDATE inventoryDB SET mad = {mean_absolute_error(metric_df.y,metric_df.yhat)} WHERE productSKU = \"{x[0]}\" and storeID = \"{x[1]}\"')\n",
        "  mydb.commit()\n",
        "  curr4.close()\n",
        "  for ind in forecast.index:\n",
        "    print(forecast['ds'][ind], forecast['yhat'][ind])   \n",
        "    curr3 = mydb.cursor()\n",
        "    sql = f'INSERT IGNORE INTO saleshistory (dateInfo, productSKU,storeID,qty,clientCode,status,CustomerID) VALUES (\"{forecast[\"ds\"][ind]}\",\"{x[0]}\",\"{x[1]}\",\"{forecast[\"yhat\"][ind]}\",\"CL01\",\"forecast\",\"PE\")'\n",
        "    #print(sql)\n",
        "    curr3.execute(sql)\n",
        "    mydb.commit()\n",
        "    print(curr3.rowcount, \"Record inserted successfully into table\")\n",
        "    curr3.close()\n",
        "  \n",
        "  #fig = prophet.plot(forecast,xlabel='Date', ylabel=x[0])\n",
        "  #ax = fig.gca()\n",
        "  #ax.set_title(\"Title\" + x[0] + \",\"+x[1], size=34)\n",
        "  #a = add_changepoints_to_plot(fig.gca(), prophet, forecast)\n",
        "  #print(future)\n",
        "\n",
        "msg = \"COLAB WORK FINISH ALERT!\"\n",
        "server.sendmail(\"papasumit@gmail.com\", \"papasumit@gmail.com\", msg)\n",
        "server.quit()"
      ],
      "execution_count": null,
      "outputs": []
    },
    {
      "cell_type": "code",
      "metadata": {
        "id": "hMLFT-aaOy2n",
        "colab_type": "code",
        "colab": {}
      },
      "source": [
        "df"
      ],
      "execution_count": null,
      "outputs": []
    },
    {
      "cell_type": "code",
      "metadata": {
        "id": "4HpxdOuDFrOl",
        "colab_type": "code",
        "colab": {}
      },
      "source": [
        "forecast"
      ],
      "execution_count": null,
      "outputs": []
    },
    {
      "cell_type": "code",
      "metadata": {
        "id": "shnWHmdbF1m5",
        "colab_type": "code",
        "colab": {}
      },
      "source": [
        "metric_df = forecast.set_index('ds')[['yhat']].join(df.set_index('ds').y).reset_index()\n",
        "metric_df\n",
        "metric_df.dropna(inplace=True)\n",
        "metric_df\n",
        "mean_absolute_error(metric_df.y, metric_df.yhat)"
      ],
      "execution_count": null,
      "outputs": []
    },
    {
      "cell_type": "markdown",
      "metadata": {
        "id": "D1QEpkSgUYYN",
        "colab_type": "text"
      },
      "source": [
        "PO Calculation using Python\n",
        "\n",
        "---\n",
        "\n",
        "\n",
        "logic as follows"
      ]
    },
    {
      "cell_type": "code",
      "metadata": {
        "id": "7Ktmk93AUd0K",
        "colab_type": "code",
        "colab": {}
      },
      "source": [
        "#PO Calculation\n",
        "#print 15 forecast first\n"
      ],
      "execution_count": null,
      "outputs": []
    }
  ]
}